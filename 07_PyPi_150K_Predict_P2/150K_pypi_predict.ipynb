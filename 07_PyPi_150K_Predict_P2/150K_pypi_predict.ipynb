{
 "cells": [
  {
   "cell_type": "code",
   "execution_count": 70,
   "metadata": {
    "collapsed": true
   },
   "outputs": [],
   "source": [
    "import pandas as pd\n",
    "import matplotlib.pylab as plt\n",
    "%matplotlib inline\n",
    "from matplotlib.pylab import rcParams\n",
    "from matplotlib import pyplot\n",
    "rcParams['figure.figsize'] = 15, 6\n",
    "from pandas.tools.plotting import autocorrelation_plot\n",
    "from pandas.tools.plotting import lag_plot\n",
    "from statsmodels.tsa.arima_model import ARIMA\n",
    "from statsmodels.tsa.ar_model import AR\n",
    "from sklearn.metrics import mean_squared_error"
   ]
  },
  {
   "cell_type": "code",
   "execution_count": 39,
   "metadata": {
    "collapsed": false
   },
   "outputs": [],
   "source": [
    "data = pd.read_csv(\"data.txt\", delimiter=\":\", names=['date', 'count'], squeeze=True)"
   ]
  },
  {
   "cell_type": "code",
   "execution_count": 40,
   "metadata": {
    "collapsed": false
   },
   "outputs": [
    {
     "data": {
      "text/html": [
       "<div>\n",
       "<table border=\"1\" class=\"dataframe\">\n",
       "  <thead>\n",
       "    <tr style=\"text-align: right;\">\n",
       "      <th></th>\n",
       "      <th>date</th>\n",
       "      <th>count</th>\n",
       "    </tr>\n",
       "  </thead>\n",
       "  <tbody>\n",
       "    <tr>\n",
       "      <th>0</th>\n",
       "      <td>20130214002304</td>\n",
       "      <td>28061</td>\n",
       "    </tr>\n",
       "    <tr>\n",
       "      <th>1</th>\n",
       "      <td>20130216031420</td>\n",
       "      <td>28108</td>\n",
       "    </tr>\n",
       "    <tr>\n",
       "      <th>2</th>\n",
       "      <td>20130218203937</td>\n",
       "      <td>28177</td>\n",
       "    </tr>\n",
       "    <tr>\n",
       "      <th>3</th>\n",
       "      <td>20130219041156</td>\n",
       "      <td>28186</td>\n",
       "    </tr>\n",
       "    <tr>\n",
       "      <th>4</th>\n",
       "      <td>20130509061502</td>\n",
       "      <td>30742</td>\n",
       "    </tr>\n",
       "  </tbody>\n",
       "</table>\n",
       "</div>"
      ],
      "text/plain": [
       "             date  count\n",
       "0  20130214002304  28061\n",
       "1  20130216031420  28108\n",
       "2  20130218203937  28177\n",
       "3  20130219041156  28186\n",
       "4  20130509061502  30742"
      ]
     },
     "execution_count": 40,
     "metadata": {},
     "output_type": "execute_result"
    }
   ],
   "source": [
    "data.head()"
   ]
  },
  {
   "cell_type": "code",
   "execution_count": 41,
   "metadata": {
    "collapsed": false
   },
   "outputs": [
    {
     "name": "stdout",
     "output_type": "stream",
     "text": [
      "date     int64\n",
      "count    int64\n",
      "dtype: object\n"
     ]
    }
   ],
   "source": [
    "print(data.dtypes)"
   ]
  },
  {
   "cell_type": "code",
   "execution_count": 42,
   "metadata": {
    "collapsed": false
   },
   "outputs": [],
   "source": [
    "data['date'] = data.date.astype(str)"
   ]
  },
  {
   "cell_type": "code",
   "execution_count": 43,
   "metadata": {
    "collapsed": false
   },
   "outputs": [],
   "source": [
    "data['date'] = pd.to_datetime(data['date'])"
   ]
  },
  {
   "cell_type": "code",
   "execution_count": 44,
   "metadata": {
    "collapsed": false
   },
   "outputs": [
    {
     "data": {
      "text/html": [
       "<div>\n",
       "<table border=\"1\" class=\"dataframe\">\n",
       "  <thead>\n",
       "    <tr style=\"text-align: right;\">\n",
       "      <th></th>\n",
       "      <th>date</th>\n",
       "      <th>count</th>\n",
       "    </tr>\n",
       "  </thead>\n",
       "  <tbody>\n",
       "    <tr>\n",
       "      <th>0</th>\n",
       "      <td>2013-02-14 00:23:04</td>\n",
       "      <td>28061</td>\n",
       "    </tr>\n",
       "    <tr>\n",
       "      <th>1</th>\n",
       "      <td>2013-02-16 03:14:20</td>\n",
       "      <td>28108</td>\n",
       "    </tr>\n",
       "    <tr>\n",
       "      <th>2</th>\n",
       "      <td>2013-02-18 20:39:37</td>\n",
       "      <td>28177</td>\n",
       "    </tr>\n",
       "    <tr>\n",
       "      <th>3</th>\n",
       "      <td>2013-02-19 04:11:56</td>\n",
       "      <td>28186</td>\n",
       "    </tr>\n",
       "    <tr>\n",
       "      <th>4</th>\n",
       "      <td>2013-05-09 06:15:02</td>\n",
       "      <td>30742</td>\n",
       "    </tr>\n",
       "  </tbody>\n",
       "</table>\n",
       "</div>"
      ],
      "text/plain": [
       "                 date  count\n",
       "0 2013-02-14 00:23:04  28061\n",
       "1 2013-02-16 03:14:20  28108\n",
       "2 2013-02-18 20:39:37  28177\n",
       "3 2013-02-19 04:11:56  28186\n",
       "4 2013-05-09 06:15:02  30742"
      ]
     },
     "execution_count": 44,
     "metadata": {},
     "output_type": "execute_result"
    }
   ],
   "source": [
    "data.head()"
   ]
  },
  {
   "cell_type": "code",
   "execution_count": 45,
   "metadata": {
    "collapsed": false
   },
   "outputs": [
    {
     "data": {
      "text/html": [
       "<div>\n",
       "<table border=\"1\" class=\"dataframe\">\n",
       "  <thead>\n",
       "    <tr style=\"text-align: right;\">\n",
       "      <th></th>\n",
       "      <th>count</th>\n",
       "    </tr>\n",
       "    <tr>\n",
       "      <th>date</th>\n",
       "      <th></th>\n",
       "    </tr>\n",
       "  </thead>\n",
       "  <tbody>\n",
       "    <tr>\n",
       "      <th>2013-02-14 00:23:04</th>\n",
       "      <td>28061</td>\n",
       "    </tr>\n",
       "    <tr>\n",
       "      <th>2013-02-16 03:14:20</th>\n",
       "      <td>28108</td>\n",
       "    </tr>\n",
       "    <tr>\n",
       "      <th>2013-02-18 20:39:37</th>\n",
       "      <td>28177</td>\n",
       "    </tr>\n",
       "    <tr>\n",
       "      <th>2013-02-19 04:11:56</th>\n",
       "      <td>28186</td>\n",
       "    </tr>\n",
       "    <tr>\n",
       "      <th>2013-05-09 06:15:02</th>\n",
       "      <td>30742</td>\n",
       "    </tr>\n",
       "  </tbody>\n",
       "</table>\n",
       "</div>"
      ],
      "text/plain": [
       "                     count\n",
       "date                      \n",
       "2013-02-14 00:23:04  28061\n",
       "2013-02-16 03:14:20  28108\n",
       "2013-02-18 20:39:37  28177\n",
       "2013-02-19 04:11:56  28186\n",
       "2013-05-09 06:15:02  30742"
      ]
     },
     "execution_count": 45,
     "metadata": {},
     "output_type": "execute_result"
    }
   ],
   "source": [
    "data.index = data['date']\n",
    "del data['date']\n",
    "data.head()"
   ]
  },
  {
   "cell_type": "code",
   "execution_count": 46,
   "metadata": {
    "collapsed": false
   },
   "outputs": [
    {
     "data": {
      "text/plain": [
       "[<matplotlib.lines.Line2D at 0x11d1144e0>]"
      ]
     },
     "execution_count": 46,
     "metadata": {},
     "output_type": "execute_result"
    },
    {
     "data": {
      "image/png": "[encoded data removed]",
      "text/plain": [
       "<matplotlib.figure.Figure at 0x11cf3f240>"
      ]
     },
     "metadata": {},
     "output_type": "display_data"
    }
   ],
   "source": [
    "plt.plot(data)"
   ]
  },
  {
   "cell_type": "code",
   "execution_count": 10,
   "metadata": {
    "collapsed": false,
    "scrolled": true
   },
   "outputs": [
    {
     "data": {
      "image/png": "[encoded data removed]",
      "text/plain": [
       "<matplotlib.figure.Figure at 0x11c6eeb38>"
      ]
     },
     "metadata": {},
     "output_type": "display_data"
    }
   ],
   "source": [
    "autocorrelation_plot(data)\n",
    "pyplot.show()"
   ]
  },
  {
   "cell_type": "code",
   "execution_count": 47,
   "metadata": {
    "collapsed": true
   },
   "outputs": [],
   "source": [
    "data['count'] = data['count'].astype(float)"
   ]
  },
  {
   "cell_type": "code",
   "execution_count": 12,
   "metadata": {
    "collapsed": false
   },
   "outputs": [
    {
     "name": "stdout",
     "output_type": "stream",
     "text": [
      "                             ARIMA Model Results                              \n",
      "==============================================================================\n",
      "Dep. Variable:                D.count   No. Observations:                 1021\n",
      "Model:                 ARIMA(5, 1, 0)   Log Likelihood               -6324.978\n",
      "Method:                       css-mle   S.D. of innovations            118.585\n",
      "Date:                Tue, 12 Dec 2017   AIC                          12663.956\n",
      "Time:                        16:20:47   BIC                          12698.455\n",
      "Sample:                    02-16-2013   HQIC                         12677.055\n",
      "                         - 02-16-2017                                         \n",
      "=================================================================================\n",
      "                    coef    std err          z      P>|z|      [95.0% Conf. Int.]\n",
      "---------------------------------------------------------------------------------\n",
      "const            73.5078     12.641      5.815      0.000        48.731    98.284\n",
      "ar.L1.D.count     0.2059      0.032      6.527      0.000         0.144     0.268\n",
      "ar.L2.D.count     0.0460      0.032      1.430      0.153        -0.017     0.109\n",
      "ar.L3.D.count     0.0959      0.033      2.932      0.003         0.032     0.160\n",
      "ar.L4.D.count     0.2523      0.042      5.937      0.000         0.169     0.336\n",
      "ar.L5.D.count     0.1075      0.042      2.577      0.010         0.026     0.189\n",
      "                                    Roots                                    \n",
      "=============================================================================\n",
      "                 Real           Imaginary           Modulus         Frequency\n",
      "-----------------------------------------------------------------------------\n",
      "AR.1            1.1168           -0.0000j            1.1168           -0.0000\n",
      "AR.2            0.1936           -1.3743j            1.3878           -0.2277\n",
      "AR.3            0.1936           +1.3743j            1.3878            0.2277\n",
      "AR.4           -1.9249           -0.7858j            2.0791           -0.4383\n",
      "AR.5           -1.9249           +0.7858j            2.0791            0.4383\n",
      "-----------------------------------------------------------------------------\n"
     ]
    }
   ],
   "source": [
    "model = ARIMA(data, order=(5,1,0))\n",
    "model_fit = model.fit(disp=0)\n",
    "print(model_fit.summary())"
   ]
  },
  {
   "cell_type": "code",
   "execution_count": 32,
   "metadata": {
    "collapsed": false
   },
   "outputs": [],
   "source": [
    "forecast = model_fit.forecast()[0]"
   ]
  },
  {
   "cell_type": "code",
   "execution_count": 33,
   "metadata": {
    "collapsed": false
   },
   "outputs": [
    {
     "name": "stdout",
     "output_type": "stream",
     "text": [
      "[ 99012.1268398]\n"
     ]
    }
   ],
   "source": [
    "print(forecast)"
   ]
  },
  {
   "cell_type": "code",
   "execution_count": 63,
   "metadata": {
    "collapsed": false
   },
   "outputs": [],
   "source": [
    "upsampled = data.resample('5T').mean()"
   ]
  },
  {
   "cell_type": "code",
   "execution_count": 64,
   "metadata": {
    "collapsed": false
   },
   "outputs": [],
   "source": [
    "interpolated = upsampled.interpolate(method='linear')"
   ]
  },
  {
   "cell_type": "code",
   "execution_count": 65,
   "metadata": {
    "collapsed": false
   },
   "outputs": [
    {
     "data": {
      "text/html": [
       "<div>\n",
       "<table border=\"1\" class=\"dataframe\">\n",
       "  <thead>\n",
       "    <tr style=\"text-align: right;\">\n",
       "      <th></th>\n",
       "      <th>count</th>\n",
       "    </tr>\n",
       "    <tr>\n",
       "      <th>date</th>\n",
       "      <th></th>\n",
       "    </tr>\n",
       "  </thead>\n",
       "  <tbody>\n",
       "    <tr>\n",
       "      <th>2013-02-14 00:20:00</th>\n",
       "      <td>28061.000000</td>\n",
       "    </tr>\n",
       "    <tr>\n",
       "      <th>2013-02-14 00:25:00</th>\n",
       "      <td>28061.077049</td>\n",
       "    </tr>\n",
       "    <tr>\n",
       "      <th>2013-02-14 00:30:00</th>\n",
       "      <td>28061.154098</td>\n",
       "    </tr>\n",
       "    <tr>\n",
       "      <th>2013-02-14 00:35:00</th>\n",
       "      <td>28061.231148</td>\n",
       "    </tr>\n",
       "    <tr>\n",
       "      <th>2013-02-14 00:40:00</th>\n",
       "      <td>28061.308197</td>\n",
       "    </tr>\n",
       "  </tbody>\n",
       "</table>\n",
       "</div>"
      ],
      "text/plain": [
       "                            count\n",
       "date                             \n",
       "2013-02-14 00:20:00  28061.000000\n",
       "2013-02-14 00:25:00  28061.077049\n",
       "2013-02-14 00:30:00  28061.154098\n",
       "2013-02-14 00:35:00  28061.231148\n",
       "2013-02-14 00:40:00  28061.308197"
      ]
     },
     "execution_count": 65,
     "metadata": {},
     "output_type": "execute_result"
    }
   ],
   "source": [
    "interpolated.head()"
   ]
  },
  {
   "cell_type": "code",
   "execution_count": 66,
   "metadata": {
    "collapsed": false
   },
   "outputs": [
    {
     "name": "stdout",
     "output_type": "stream",
     "text": [
      "                             ARIMA Model Results                              \n",
      "==============================================================================\n",
      "Dep. Variable:                D.count   No. Observations:               421492\n",
      "Model:                 ARIMA(5, 1, 0)   Log Likelihood             1436833.148\n",
      "Method:                       css-mle   S.D. of innovations              0.008\n",
      "Date:                Wed, 13 Dec 2017   AIC                       -2873652.295\n",
      "Time:                        21:48:46   BIC                       -2873575.634\n",
      "Sample:                    02-14-2013   HQIC                      -2873630.438\n",
      "                         - 02-16-2017                                         \n",
      "=================================================================================\n",
      "                    coef    std err          z      P>|z|      [95.0% Conf. Int.]\n",
      "---------------------------------------------------------------------------------\n",
      "const             0.1681      0.003     59.535      0.000         0.163     0.174\n",
      "ar.L1.D.count     0.9977      0.002    648.121      0.000         0.995     1.001\n",
      "ar.L2.D.count    -0.1905      0.002    -87.614      0.000        -0.195    -0.186\n",
      "ar.L3.D.count     0.1883      0.002     86.591      0.000         0.184     0.193\n",
      "ar.L4.D.count    -0.0333      0.002    -15.313      0.000        -0.038    -0.029\n",
      "ar.L5.D.count     0.0334      0.002     21.684      0.000         0.030     0.036\n",
      "                                    Roots                                    \n",
      "=============================================================================\n",
      "                 Real           Imaginary           Modulus         Frequency\n",
      "-----------------------------------------------------------------------------\n",
      "AR.1            1.0036           -0.0000j            1.0036           -0.0000\n",
      "AR.2           -1.1503           -2.0386j            2.3408           -0.3318\n",
      "AR.3           -1.1503           +2.0386j            2.3408            0.3318\n",
      "AR.4            1.1473           -2.0326j            2.3341           -0.1682\n",
      "AR.5            1.1473           +2.0326j            2.3341            0.1682\n",
      "-----------------------------------------------------------------------------\n"
     ]
    }
   ],
   "source": [
    "model = ARIMA(interpolated, order=(5,1,0))\n",
    "model_fit = model.fit(disp=0)\n",
    "print(model_fit.summary())"
   ]
  },
  {
   "cell_type": "code",
   "execution_count": 73,
   "metadata": {
    "collapsed": false
   },
   "outputs": [],
   "source": [
    "model = AR(interpolated)\n",
    "model_fit = model.fit()"
   ]
  },
  {
   "cell_type": "code",
   "execution_count": 76,
   "metadata": {
    "collapsed": false
   },
   "outputs": [],
   "source": [
    "window = model_fit.k_ar\n",
    "coef = model_fit.params\n"
   ]
  },
  {
   "cell_type": "code",
   "execution_count": 78,
   "metadata": {
    "collapsed": false
   },
   "outputs": [],
   "source": [
    "history = interpolated[len(interpolated)-window:]"
   ]
  },
  {
   "cell_type": "code",
   "execution_count": 91,
   "metadata": {
    "collapsed": false
   },
   "outputs": [
    {
     "data": {
      "text/html": [
       "<div>\n",
       "<table border=\"1\" class=\"dataframe\">\n",
       "  <thead>\n",
       "    <tr style=\"text-align: right;\">\n",
       "      <th></th>\n",
       "      <th>count</th>\n",
       "    </tr>\n",
       "    <tr>\n",
       "      <th>date</th>\n",
       "      <th></th>\n",
       "    </tr>\n",
       "  </thead>\n",
       "  <tbody>\n",
       "    <tr>\n",
       "      <th>2017-02-16 04:40:00</th>\n",
       "      <td>98879.666667</td>\n",
       "    </tr>\n",
       "    <tr>\n",
       "      <th>2017-02-16 04:45:00</th>\n",
       "      <td>98879.951389</td>\n",
       "    </tr>\n",
       "    <tr>\n",
       "      <th>2017-02-16 04:50:00</th>\n",
       "      <td>98880.236111</td>\n",
       "    </tr>\n",
       "    <tr>\n",
       "      <th>2017-02-16 04:55:00</th>\n",
       "      <td>98880.520833</td>\n",
       "    </tr>\n",
       "    <tr>\n",
       "      <th>2017-02-16 05:00:00</th>\n",
       "      <td>98880.805556</td>\n",
       "    </tr>\n",
       "  </tbody>\n",
       "</table>\n",
       "</div>"
      ],
      "text/plain": [
       "                            count\n",
       "date                             \n",
       "2017-02-16 04:40:00  98879.666667\n",
       "2017-02-16 04:45:00  98879.951389\n",
       "2017-02-16 04:50:00  98880.236111\n",
       "2017-02-16 04:55:00  98880.520833\n",
       "2017-02-16 05:00:00  98880.805556"
      ]
     },
     "execution_count": 91,
     "metadata": {},
     "output_type": "execute_result"
    }
   ],
   "source": [
    "history.head()"
   ]
  },
  {
   "cell_type": "code",
   "execution_count": null,
   "metadata": {
    "collapsed": true
   },
   "outputs": [],
   "source": []
  }
 ],
 "metadata": {
  "kernelspec": {
   "display_name": "Python 3",
   "language": "python",
   "name": "python3"
  },
  "language_info": {
   "codemirror_mode": {
    "name": "ipython",
    "version": 3
   },
   "file_extension": ".py",
   "mimetype": "text/x-python",
   "name": "python",
   "nbconvert_exporter": "python",
   "pygments_lexer": "ipython3",
   "version": "3.6.0"
  }
 },
 "nbformat": 4,
 "nbformat_minor": 2
}
