{
 "cells": [
  {
   "cell_type": "code",
   "execution_count": 1,
   "metadata": {
    "collapsed": true
   },
   "outputs": [],
   "source": [
    "import json\n",
    "import sys"
   ]
  },
  {
   "cell_type": "code",
   "execution_count": 7,
   "metadata": {
    "collapsed": false
   },
   "outputs": [],
   "source": [
    "def read_json(input_file):\n",
    "    with open(input_file) as f:\n",
    "        line = f.readlines(2)\n",
    "        print(line)\n",
    "                \n",
    "            \n",
    "    "
   ]
  },
  {
   "cell_type": "code",
   "execution_count": 9,
   "metadata": {
    "collapsed": false
   },
   "outputs": [
    {
     "name": "stdout",
     "output_type": "stream",
     "text": [
      "['{\"created_at\": \"Fri Dec 15 03:45:12 +0000 2017\", \"id\": 941514453719191557, \"id_str\": \"941514453719191557\", \"text\": \"RT @ivieani: Roy Moore wanted to get rid of the 19th Amendment. The 19th Amendment gave women the right to vote. 64% of white wo\\\\u2026 \", \"source\": \"<a href=\\\\\"http://twitter.com/download/iphone\\\\\" rel=\\\\\"nofollow\\\\\">Twitter for iPhone</a>\", \"truncated\": false, \"in_reply_to_status_id\": null, \"in_reply_to_status_id_str\": null, \"in_reply_to_user_id\": null, \"in_reply_to_user_id_str\": null, \"in_reply_to_screen_name\": null, \"user\": {\"id\": 3304865480, \"id_str\": \"3304865480\", \"name\": \"ez\", \"screen_name\": \"ezraeliot3\", \"location\": \"In hobi\\'s heart\", \"url\": null, \"description\": \"I love bts and bh\", \"translator_type\": \"none\", \"protected\": false, \"verified\": false, \"followers_count\": 92, \"friends_count\": 606, \"listed_count\": 0, \"favourites_count\": 14232, \"statuses_count\": 4638, \"created_at\": \"Mon Aug 03 05:58:00 +0000 2015\", \"utc_offset\": -28800, \"time_zone\": \"Pacific Time (US & Canada)\", \"geo_enabled\": false, \"lang\": \"en\", \"contributors_enabled\": false, \"is_translator\": false, \"profile_background_color\": \"C0DEED\", \"profile_background_image_url\": \"http://abs.twimg.com/images/themes/theme1/bg.png\", \"profile_background_image_url_https\": \"https://abs.twimg.com/images/themes/theme1/bg.png\", \"profile_background_tile\": false, \"profile_link_color\": \"1DA1F2\", \"profile_sidebar_border_color\": \"C0DEED\", \"profile_sidebar_fill_color\": \"DDEEF6\", \"profile_text_color\": \"333333\", \"profile_use_background_image\": true, \"profile_image_url\": \"http://pbs.twimg.com/profile_images/922668904526200832/ORy70I2R_normal.jpg\", \"profile_image_url_https\": \"https://pbs.twimg.com/profile_images/922668904526200832/ORy70I2R_normal.jpg\", \"profile_banner_url\": \"https://pbs.twimg.com/profile_banners/3304865480/1512965331\", \"default_profile\": true, \"default_profile_image\": false, \"following\": null, \"follow_request_sent\": null, \"notifications\": null}, \"geo\": null, \"coordinates\": null, \"place\": null, \"contributors\": null, \"retweeted_status\": {\"created_at\": \"Wed Dec 13 05:27:24 +0000 2017\", \"id\": 940815396961161218, \"id_str\": \"940815396961161218\", \"text\": \"Roy Moore wanted to get rid of the 19th Amendment. The 19th Amendment gave women the right to vote. 64% of white wo\\\\u2026 https://t.co/HBENDZRTUV\", \"display_text_range\": [0, 140], \"source\": \"<a href=\\\\\"http://twitter.com/download/iphone\\\\\" rel=\\\\\"nofollow\\\\\">Twitter for iPhone</a>\", \"truncated\": true, \"in_reply_to_status_id\": null, \"in_reply_to_status_id_str\": null, \"in_reply_to_user_id\": null, \"in_reply_to_user_id_str\": null, \"in_reply_to_screen_name\": null, \"user\": {\"id\": 2159700978, \"id_str\": \"2159700978\", \"name\": \"Ivie Okechukwu Ani\", \"screen_name\": \"ivieani\", \"location\": \"NYC\", \"url\": \"https://www.instagram.com/ivie.ani\", \"description\": \"Degree in Journalism &the\\\\ud83c\\\\udf0aNYU\\\\ud83c\\\\uddf3\\\\ud83c\\\\uddecI cover culture @villagevoice @nytimes @vulture @TeenVogue @thefader @papermagazine @complex Past @Facebook @BET\\\\u2022ivie.ani@nyu.edu\", \"translator_type\": \"none\", \"protected\": false, \"verified\": true, \"followers_count\": 10124, \"friends_count\": 667, \"listed_count\": 172, \"favourites_count\": 2600, \"statuses_count\": 28541, \"created_at\": \"Sun Oct 27 21:58:13 +0000 2013\", \"utc_offset\": -28800, \"time_zone\": \"Pacific Time (US & Canada)\", \"geo_enabled\": false, \"lang\": \"en\", \"contributors_enabled\": false, \"is_translator\": false, \"profile_background_color\": \"C0DEED\", \"profile_background_image_url\": \"http://pbs.twimg.com/profile_background_images/480582323390275584/2q7mbbvg.jpeg\", \"profile_background_image_url_https\": \"https://pbs.twimg.com/profile_background_images/480582323390275584/2q7mbbvg.jpeg\", \"profile_background_tile\": true, \"profile_link_color\": \"89C9FA\", \"profile_sidebar_border_color\": \"FFFFFF\", \"profile_sidebar_fill_color\": \"DDEEF6\", \"profile_text_color\": \"333333\", \"profile_use_background_image\": true, \"profile_image_url\": \"http://pbs.twimg.com/profile_images/937987149831507968/y4PTThhp_normal.jpg\", \"profile_image_url_https\": \"https://pbs.twimg.com/profile_images/937987149831507968/y4PTThhp_normal.jpg\", \"profile_banner_url\": \"https://pbs.twimg.com/profile_banners/2159700978/1503474599\", \"default_profile\": false, \"default_profile_image\": false, \"following\": null, \"follow_request_sent\": null, \"notifications\": null}, \"geo\": null, \"coordinates\": null, \"place\": null, \"contributors\": null, \"is_quote_status\": false, \"extended_tweet\": {\"full_text\": \"Roy Moore wanted to get rid of the 19th Amendment. The 19th Amendment gave women the right to vote. 64% of white women still voted for him https://t.co/X1fUCyOJVa\", \"display_text_range\": [0, 138], \"entities\": {\"hashtags\": [], \"urls\": [], \"user_mentions\": [], \"symbols\": [], \"media\": [{\"id\": 940815389793103873, \"id_str\": \"940815389793103873\", \"indices\": [139, 162], \"media_url\": \"http://pbs.twimg.com/media/DQ5ynMPWsAEsR1o.jpg\", \"media_url_https\": \"https://pbs.twimg.com/media/DQ5ynMPWsAEsR1o.jpg\", \"url\": \"https://t.co/X1fUCyOJVa\", \"display_url\": \"pic.twitter.com/X1fUCyOJVa\", \"expanded_url\": \"https://twitter.com/ivieani/status/940815396961161218/photo/1\", \"type\": \"photo\", \"sizes\": {\"small\": {\"w\": 383, \"h\": 680, \"resize\": \"fit\"}, \"thumb\": {\"w\": 150, \"h\": 150, \"resize\": \"crop\"}, \"large\": {\"w\": 1152, \"h\": 2048, \"resize\": \"fit\"}, \"medium\": {\"w\": 675, \"h\": 1200, \"resize\": \"fit\"}}}]}, \"extended_entities\": {\"media\": [{\"id\": 940815389793103873, \"id_str\": \"940815389793103873\", \"indices\": [139, 162], \"media_url\": \"http://pbs.twimg.com/media/DQ5ynMPWsAEsR1o.jpg\", \"media_url_https\": \"https://pbs.twimg.com/media/DQ5ynMPWsAEsR1o.jpg\", \"url\": \"https://t.co/X1fUCyOJVa\", \"display_url\": \"pic.twitter.com/X1fUCyOJVa\", \"expanded_url\": \"https://twitter.com/ivieani/status/940815396961161218/photo/1\", \"type\": \"photo\", \"sizes\": {\"small\": {\"w\": 383, \"h\": 680, \"resize\": \"fit\"}, \"thumb\": {\"w\": 150, \"h\": 150, \"resize\": \"crop\"}, \"large\": {\"w\": 1152, \"h\": 2048, \"resize\": \"fit\"}, \"medium\": {\"w\": 675, \"h\": 1200, \"resize\": \"fit\"}}}]}}, \"quote_count\": 712, \"reply_count\": 135, \"retweet_count\": 21979, \"favorite_count\": 55507, \"entities\": {\"hashtags\": [], \"urls\": [{\"url\": \"https://t.co/HBENDZRTUV\", \"expanded_url\": \"https://twitter.com/i/web/status/940815396961161218\", \"display_url\": \"twitter.com/i/web/status/9\\\\u2026\", \"indices\": [117, 140]}], \"user_mentions\": [], \"symbols\": []}, \"favorited\": false, \"retweeted\": false, \"possibly_sensitive\": false, \"filter_level\": \"low\", \"lang\": \"en\"}, \"is_quote_status\": false, \"quote_count\": 0, \"reply_count\": 0, \"retweet_count\": 0, \"favorite_count\": 0, \"entities\": {\"hashtags\": [], \"urls\": [], \"user_mentions\": [{\"screen_name\": \"ivieani\", \"name\": \"Ivie Okechukwu Ani\", \"id\": 2159700978, \"id_str\": \"2159700978\", \"indices\": [3, 11]}], \"symbols\": []}, \"favorited\": false, \"retweeted\": false, \"filter_level\": \"low\", \"lang\": \"en\", \"timestamp_ms\": \"1513309512916\"}\\n']\n"
     ]
    }
   ],
   "source": [
    "read_json('data_1513309512.json')"
   ]
  },
  {
   "cell_type": "raw",
   "metadata": {
    "collapsed": true
   },
   "source": []
  }
 ],
 "metadata": {
  "kernelspec": {
   "display_name": "Python 3",
   "language": "python",
   "name": "python3"
  },
  "language_info": {
   "codemirror_mode": {
    "name": "ipython",
    "version": 3
   },
   "file_extension": ".py",
   "mimetype": "text/x-python",
   "name": "python",
   "nbconvert_exporter": "python",
   "pygments_lexer": "ipython3",
   "version": "3.6.0"
  }
 },
 "nbformat": 4,
 "nbformat_minor": 2
}
